{
 "cells": [
  {
   "attachments": {},
   "cell_type": "markdown",
   "metadata": {},
   "source": [
    "## Consideraciones para el mapa:\n",
    "\n",
    "1. Al ser un mapa tan grande mostramos la ubicacion de la vendedoraa. \n",
    "2. Si se le da click a una vendedora aparece información de ella . "
   ]
  },
  {
   "cell_type": "code",
   "execution_count": null,
   "metadata": {},
   "outputs": [],
   "source": [
    "# Importamos las librerías necesarias. \n",
    "\n",
    "import pandas as pd \n",
    "import numpy as np \n",
    "import folium\n",
    "from folium import plugins\n",
    "import ipywidgets\n",
    "import geocoder\n",
    "import geopy\n",
    "import re"
   ]
  },
  {
   "cell_type": "code",
   "execution_count": null,
   "metadata": {},
   "outputs": [],
   "source": [
    "# Código de mapa Folium definitivo \n",
    "\n",
    "\n",
    "map = folium.Map(location=[lat, lon],\n",
    "                    zoom_start=5,\n",
    "                    control_scale= False,\n",
    "                    tiles= 'cartodbpositron'\n",
    "                    )\n",
    "\n",
    "with open('Colombia_departamentos_poblacion.geojson', 'r', encoding='utf-8') as f:\n",
    "    read_data = f.read()\n",
    "f.close()\n",
    "\n",
    "borderStyle = {\n",
    "    \"color\": \"black\",\n",
    "    \"weight\": 1,\n",
    "    \"fill\": False\n",
    "\n",
    "}\n",
    "\n",
    "folium.GeoJson(data = read_data, \n",
    "               name= 'Borders', \n",
    "               style_function=lambda x: borderStyle\n",
    "               ).add_to(map)\n",
    "\n",
    "\n",
    "\n",
    "for itr in range(len(df)):\n",
    "             df['LATITUD'] = df['LATITUD'].str.replace(\",\", \".\")\n",
    "             df['LONGITUD'] = df['LONGITUD'].str.replace(\",\", \".\")\n",
    "             lat = float(df.loc[itr][\"LATITUD\"])\n",
    "             lng = float(df.loc[itr][\"LONGITUD\"])\n",
    "             folium.vector_layers.CircleMarker(\n",
    "                location = [lat, lng],\n",
    "                radius= 1,\n",
    "                weight = 2,\n",
    "                popup = df.loc[itr]['MARCA'],\n",
    "                fill= True,\n",
    "                fill_color = df.loc[itr][\"Marker_Color\"],\n",
    "                color=  adf.loc[itr][\"Marker_Color\"]\n",
    "             ).add_to(map)\n",
    "             print( a.loc[itr][\"LONGITUD\"])\n",
    "            \n",
    "\n",
    "\n",
    "folium.LayerControl().add_to(map)\n",
    "map"
   ]
  }
 ],
 "metadata": {
  "language_info": {
   "name": "python"
  },
  "orig_nbformat": 4
 },
 "nbformat": 4,
 "nbformat_minor": 2
}
